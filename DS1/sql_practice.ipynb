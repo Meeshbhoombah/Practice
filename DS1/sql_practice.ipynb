{
 "cells": [
  {
   "cell_type": "markdown",
   "metadata": {},
   "source": [
    "# SQL Pratice\n",
    "Answer [these questions](https://docs.google.com/document/d/1BQJTwEZtaTSCl6a8pCJV4aFx2sbzJaJJ-5b62mnSlpY/edit) with datasets on [Mode](modeanalytics.com).\n",
    "\n",
    "1. Get the player names, player hometowns, school names, player positions, and school conferences for all players with position ‘QB’ or ‘WR’.\n",
    "```sql\n",
    "SELECT player_name, hometown, full_school_name, position, teams.conference\n",
    "FROM benn.college_football_players players\n",
    "JOIN benn.college_football_teams teams\n",
    "ON players.full_school_name = teams.school_name\n",
    "WHERE players.position = 'QB' OR players.position = 'WR'\n",
    "ORDER BY position DESC\n",
    "```\n",
    "\n",
    "2. Create a table that displays the average height of players at each position.\n",
    "3. Write a query that find the top 5 tallest players, as well as their position, height, school, and the conference they belong to.\n",
    "```sql\n",
    "SELECT player_name, position, height, school_name\n",
    "FROM benn.college_football_players \n",
    "WHERE height != 0\n",
    "ORDER BY height DESC\n",
    "LIMIT 5\n",
    "```\n",
    "\n",
    "4. Write a query that gets the company name, founding date, acquirer name, and acquisition date from the crunchbase database.  \n",
    "5. Companies from which 10 cities have the highest average acquisition amount?\n",
    "6. Write a query (or queries) that compares the average amount of investment raised by companies in SF per quarter to companies in NYC.  \n",
    "7. What is the max/min/average amount of investment money raised by companies in SF that have been acquired at some point?\n",
    "8. In SF, what pd_district am I most likely to have my car stolen, and on what day of the week is this most likely?\n",
    "9. Which top 3 categories of crime are most likely to go unresolved in Mission District?\n",
    "\n",
    "## Challenge Question\n",
    "For this question, you will need to use SQL to grab the correct data set, and then export it from Mode as a .CSV file.  To answer this question, you will need to use our favorite tech stack--a jupyter notebook, pandas, scipy.stats, and matplotlib.  \n",
    "\n",
    "> Hint: What’s the easiest way to check if you’ll need to use sampling/Central Limit Theorem techniques?\n",
    "\n",
    "For companies in SF with names that start with the letter ‘a’, what percentage of companies raise a funding total between between $25 and $30 million? Create a visualization that shows this on a graph of a normal distribution."
   ]
  }
 ],
 "metadata": {
  "kernelspec": {
   "display_name": "Python 3",
   "language": "python",
   "name": "python3"
  },
  "language_info": {
   "codemirror_mode": {
    "name": "ipython",
    "version": 3
   },
   "file_extension": ".py",
   "mimetype": "text/x-python",
   "name": "python",
   "nbconvert_exporter": "python",
   "pygments_lexer": "ipython3",
   "version": "3.6.3"
  }
 },
 "nbformat": 4,
 "nbformat_minor": 2
}
