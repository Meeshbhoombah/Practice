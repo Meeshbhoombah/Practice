{
 "cells": [
  {
   "cell_type": "markdown",
   "metadata": {},
   "source": [
    "# Central Limit Theorum\n",
    "One of the most fundamental and profound concept in statistics, perhaps all of math ~ [Sal Khan, that Math guy](https://youtu.be/JNm3M9cqWyc?t=3s).\n",
    "\n",
    "## What\n",
    "For once the Wikipedia defintion is kind of useful:\n",
    "> In most stiuations when indepdendent random variables are added their properly normalized sum tends towards a normal distribtuion\n",
    "\n",
    "### Break it Down\n",
    "I lied to you. To simplify any distribution with a well defined mean and variance (inherently also has a well defined standard deviation).\n",
    "\n",
    "## Example"
   ]
  },
  {
   "cell_type": "code",
   "execution_count": 3,
   "metadata": {
    "collapsed": true
   },
   "outputs": [],
   "source": [
    "# import pandas, numpy, and matplotlib\n",
    "import pandas as pd\n",
    "import numpy as np\n",
    "import matplotlib.pyplot as plt\n",
    "\n",
    "# want graphs to show inline\n",
    "%matplotlib inline\n",
    "\n",
    "# data set from \n",
    "data_set = [(0, 1), \n",
    "            (1, 1),  \n",
    "            (2, 0), \n",
    "            (2., .5), \n",
    "            (4.5, .5), \n",
    "            (5.5, 1)]"
   ]
  }
 ],
 "metadata": {
  "kernelspec": {
   "display_name": "Python 3",
   "language": "python",
   "name": "python3"
  },
  "language_info": {
   "codemirror_mode": {
    "name": "ipython",
    "version": 3
   },
   "file_extension": ".py",
   "mimetype": "text/x-python",
   "name": "python",
   "nbconvert_exporter": "python",
   "pygments_lexer": "ipython3",
   "version": "3.6.3"
  }
 },
 "nbformat": 4,
 "nbformat_minor": 2
}
